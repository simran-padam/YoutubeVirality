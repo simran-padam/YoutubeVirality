{
 "cells": [
  {
   "cell_type": "markdown",
   "metadata": {
    "id": "OD0xrl4pcSKD"
   },
   "source": [
    "### Cleaning US_category_id.json"
   ]
  },
  {
   "cell_type": "code",
   "execution_count": 1,
   "metadata": {},
   "outputs": [],
   "source": [
    "import json\n",
    "import pandas as pd\n",
    "import numpy as np\n",
    "import seaborn as sns\n",
    "import matplotlib.pyplot as plt\n",
    "import re\n",
    "import nltk\n",
    "from nltk.corpus import stopwords\n",
    "from nltk.tokenize import word_tokenize"
   ]
  },
  {
   "cell_type": "code",
   "execution_count": 2,
   "metadata": {
    "colab": {
     "base_uri": "https://localhost:8080/"
    },
    "executionInfo": {
     "elapsed": 1126,
     "status": "ok",
     "timestamp": 1682276722018,
     "user": {
      "displayName": "Simran Deep Kaur Padam",
      "userId": "05658118327499329444"
     },
     "user_tz": 240
    },
    "id": "PlVIOCLerSzJ",
    "outputId": "024a6461-7733-49b3-f35a-d5d89f40b0c4"
   },
   "outputs": [
    {
     "name": "stderr",
     "output_type": "stream",
     "text": [
      "[nltk_data] Downloading package punkt to /Users/Spardha/nltk_data...\n",
      "[nltk_data]   Package punkt is already up-to-date!\n"
     ]
    },
    {
     "data": {
      "text/plain": [
       "True"
      ]
     },
     "execution_count": 2,
     "metadata": {},
     "output_type": "execute_result"
    }
   ],
   "source": [
    "nltk.download('punkt')"
   ]
  },
  {
   "cell_type": "code",
   "execution_count": 3,
   "metadata": {
    "id": "sAuze8hncSKG"
   },
   "outputs": [],
   "source": [
    "# import warnings filter\n",
    "from warnings import simplefilter\n",
    "# ignore all future warnings\n",
    "simplefilter(action='ignore', category=FutureWarning)"
   ]
  },
  {
   "cell_type": "code",
   "execution_count": 4,
   "metadata": {
    "id": "jXF5hqd4cSKG",
    "outputId": "80b7671f-b12f-4709-da36-41978bd44416"
   },
   "outputs": [
    {
     "data": {
      "text/html": [
       "<div>\n",
       "<style scoped>\n",
       "    .dataframe tbody tr th:only-of-type {\n",
       "        vertical-align: middle;\n",
       "    }\n",
       "\n",
       "    .dataframe tbody tr th {\n",
       "        vertical-align: top;\n",
       "    }\n",
       "\n",
       "    .dataframe thead th {\n",
       "        text-align: right;\n",
       "    }\n",
       "</style>\n",
       "<table border=\"1\" class=\"dataframe\">\n",
       "  <thead>\n",
       "    <tr style=\"text-align: right;\">\n",
       "      <th></th>\n",
       "      <th>id</th>\n",
       "      <th>category_name</th>\n",
       "    </tr>\n",
       "  </thead>\n",
       "  <tbody>\n",
       "    <tr>\n",
       "      <th>0</th>\n",
       "      <td>1</td>\n",
       "      <td>Film &amp; Animation</td>\n",
       "    </tr>\n",
       "    <tr>\n",
       "      <th>1</th>\n",
       "      <td>2</td>\n",
       "      <td>Autos &amp; Vehicles</td>\n",
       "    </tr>\n",
       "    <tr>\n",
       "      <th>2</th>\n",
       "      <td>10</td>\n",
       "      <td>Music</td>\n",
       "    </tr>\n",
       "  </tbody>\n",
       "</table>\n",
       "</div>"
      ],
      "text/plain": [
       "   id     category_name\n",
       "0   1  Film & Animation\n",
       "1   2  Autos & Vehicles\n",
       "2  10             Music"
      ]
     },
     "execution_count": 4,
     "metadata": {},
     "output_type": "execute_result"
    }
   ],
   "source": [
    "US_category_id = pd.read_json('US_category_id.json')\n",
    "US_category_id[\"id\"] = US_category_id[\"items\"].apply(lambda x : x[\"id\"])\n",
    "US_category_id[\"title\"] = US_category_id[\"items\"].apply(lambda x : x[\"snippet\"][\"title\"])\n",
    "US_category_id.drop([\"items\",\"kind\", \"etag\"], axis =1, inplace = True)\n",
    "US_category_id[\"id\"] = US_category_id[\"id\"].astype(\"int64\")\n",
    "US_category_id.rename(columns = {\"title\": \"category_name\"}, inplace=True) \n",
    "US_category_id.head(3)"
   ]
  },
  {
   "cell_type": "code",
   "execution_count": 5,
   "metadata": {
    "id": "DMf7W6GqcSKH",
    "outputId": "3b1ddb57-29c8-49bd-c17e-739a786836ac"
   },
   "outputs": [
    {
     "data": {
      "text/plain": [
       "(32, 2)"
      ]
     },
     "execution_count": 5,
     "metadata": {},
     "output_type": "execute_result"
    }
   ],
   "source": [
    "US_category_id.shape"
   ]
  },
  {
   "cell_type": "code",
   "execution_count": 6,
   "metadata": {
    "id": "jUSRutBgcSKH",
    "outputId": "9ff60c34-621b-49a9-cf27-390eb0fb20b1"
   },
   "outputs": [
    {
     "data": {
      "text/plain": [
       "31"
      ]
     },
     "execution_count": 6,
     "metadata": {},
     "output_type": "execute_result"
    }
   ],
   "source": [
    "US_category_id.category_name.nunique()"
   ]
  },
  {
   "cell_type": "code",
   "execution_count": 7,
   "metadata": {
    "id": "PodM_hAVcSKH",
    "outputId": "7b93b145-9ace-468b-d8e0-c91bdc0e2e99"
   },
   "outputs": [
    {
     "data": {
      "text/plain": [
       "Comedy                   2\n",
       "Film & Animation         1\n",
       "Nonprofits & Activism    1\n",
       "Shows                    1\n",
       "Shorts                   1\n",
       "Thriller                 1\n",
       "Sci-Fi/Fantasy           1\n",
       "Horror                   1\n",
       "Foreign                  1\n",
       "Family                   1\n",
       "Drama                    1\n",
       "Documentary              1\n",
       "Classics                 1\n",
       "Action/Adventure         1\n",
       "Anime/Animation          1\n",
       "Movies                   1\n",
       "Science & Technology     1\n",
       "Autos & Vehicles         1\n",
       "Education                1\n",
       "Howto & Style            1\n",
       "News & Politics          1\n",
       "Entertainment            1\n",
       "People & Blogs           1\n",
       "Videoblogging            1\n",
       "Gaming                   1\n",
       "Travel & Events          1\n",
       "Short Movies             1\n",
       "Sports                   1\n",
       "Pets & Animals           1\n",
       "Music                    1\n",
       "Trailers                 1\n",
       "Name: category_name, dtype: int64"
      ]
     },
     "execution_count": 7,
     "metadata": {},
     "output_type": "execute_result"
    }
   ],
   "source": [
    "US_category_id.category_name.value_counts()"
   ]
  },
  {
   "cell_type": "code",
   "execution_count": 8,
   "metadata": {
    "id": "2v3xi0ZacSKH",
    "outputId": "fa25ada5-12ae-4716-eef5-2c6dc723571e"
   },
   "outputs": [
    {
     "data": {
      "text/html": [
       "<div>\n",
       "<style scoped>\n",
       "    .dataframe tbody tr th:only-of-type {\n",
       "        vertical-align: middle;\n",
       "    }\n",
       "\n",
       "    .dataframe tbody tr th {\n",
       "        vertical-align: top;\n",
       "    }\n",
       "\n",
       "    .dataframe thead th {\n",
       "        text-align: right;\n",
       "    }\n",
       "</style>\n",
       "<table border=\"1\" class=\"dataframe\">\n",
       "  <thead>\n",
       "    <tr style=\"text-align: right;\">\n",
       "      <th></th>\n",
       "      <th>id</th>\n",
       "      <th>category_name</th>\n",
       "    </tr>\n",
       "  </thead>\n",
       "  <tbody>\n",
       "    <tr>\n",
       "      <th>10</th>\n",
       "      <td>23</td>\n",
       "      <td>Comedy</td>\n",
       "    </tr>\n",
       "    <tr>\n",
       "      <th>21</th>\n",
       "      <td>34</td>\n",
       "      <td>Comedy</td>\n",
       "    </tr>\n",
       "  </tbody>\n",
       "</table>\n",
       "</div>"
      ],
      "text/plain": [
       "    id category_name\n",
       "10  23        Comedy\n",
       "21  34        Comedy"
      ]
     },
     "execution_count": 8,
     "metadata": {},
     "output_type": "execute_result"
    }
   ],
   "source": [
    "# two categories for Comedy \n",
    "US_category_id[US_category_id.category_name == \"Comedy\"]"
   ]
  },
  {
   "cell_type": "markdown",
   "metadata": {
    "id": "uQtBuJoUcSKI"
   },
   "source": [
    "### Cleaning USvideos.csv"
   ]
  },
  {
   "cell_type": "code",
   "execution_count": 9,
   "metadata": {
    "id": "6uDaYyEZcSKJ",
    "outputId": "4b2a5451-f6ff-45a2-ec3b-0e10eb1d848d"
   },
   "outputs": [
    {
     "data": {
      "text/plain": [
       "(40949, 16)"
      ]
     },
     "execution_count": 9,
     "metadata": {},
     "output_type": "execute_result"
    }
   ],
   "source": [
    "USvideos = pd.read_csv(\"USvideos.csv\")\n",
    "USvideos.shape"
   ]
  },
  {
   "cell_type": "code",
   "execution_count": 10,
   "metadata": {
    "id": "JfvtOWVqcSKJ",
    "outputId": "ccb83211-4afa-4983-bef0-e2631fa4506b"
   },
   "outputs": [
    {
     "name": "stdout",
     "output_type": "stream",
     "text": [
      "<class 'pandas.core.frame.DataFrame'>\n",
      "RangeIndex: 40949 entries, 0 to 40948\n",
      "Data columns (total 16 columns):\n",
      " #   Column                  Non-Null Count  Dtype \n",
      "---  ------                  --------------  ----- \n",
      " 0   video_id                40949 non-null  object\n",
      " 1   trending_date           40949 non-null  object\n",
      " 2   title                   40949 non-null  object\n",
      " 3   channel_title           40949 non-null  object\n",
      " 4   category_id             40949 non-null  int64 \n",
      " 5   publish_time            40949 non-null  object\n",
      " 6   tags                    40949 non-null  object\n",
      " 7   views                   40949 non-null  int64 \n",
      " 8   likes                   40949 non-null  int64 \n",
      " 9   dislikes                40949 non-null  int64 \n",
      " 10  comment_count           40949 non-null  int64 \n",
      " 11  thumbnail_link          40949 non-null  object\n",
      " 12  comments_disabled       40949 non-null  bool  \n",
      " 13  ratings_disabled        40949 non-null  bool  \n",
      " 14  video_error_or_removed  40949 non-null  bool  \n",
      " 15  description             40379 non-null  object\n",
      "dtypes: bool(3), int64(5), object(8)\n",
      "memory usage: 4.2+ MB\n"
     ]
    }
   ],
   "source": [
    "USvideos.info()"
   ]
  },
  {
   "cell_type": "code",
   "execution_count": 11,
   "metadata": {
    "id": "I_t7_jkwcSKJ",
    "outputId": "d674084b-0edc-4608-e744-51b4fa64f6cb"
   },
   "outputs": [
    {
     "data": {
      "text/html": [
       "<div>\n",
       "<style scoped>\n",
       "    .dataframe tbody tr th:only-of-type {\n",
       "        vertical-align: middle;\n",
       "    }\n",
       "\n",
       "    .dataframe tbody tr th {\n",
       "        vertical-align: top;\n",
       "    }\n",
       "\n",
       "    .dataframe thead th {\n",
       "        text-align: right;\n",
       "    }\n",
       "</style>\n",
       "<table border=\"1\" class=\"dataframe\">\n",
       "  <thead>\n",
       "    <tr style=\"text-align: right;\">\n",
       "      <th></th>\n",
       "      <th>video_id</th>\n",
       "      <th>trending_date</th>\n",
       "      <th>title</th>\n",
       "      <th>channel_title</th>\n",
       "      <th>category_id</th>\n",
       "      <th>publish_time</th>\n",
       "      <th>tags</th>\n",
       "      <th>views</th>\n",
       "      <th>likes</th>\n",
       "      <th>dislikes</th>\n",
       "      <th>comment_count</th>\n",
       "      <th>thumbnail_link</th>\n",
       "      <th>comments_disabled</th>\n",
       "      <th>ratings_disabled</th>\n",
       "      <th>video_error_or_removed</th>\n",
       "      <th>description</th>\n",
       "    </tr>\n",
       "  </thead>\n",
       "  <tbody>\n",
       "    <tr>\n",
       "      <th>0</th>\n",
       "      <td>2kyS6SvSYSE</td>\n",
       "      <td>17.14.11</td>\n",
       "      <td>WE WANT TO TALK ABOUT OUR MARRIAGE</td>\n",
       "      <td>CaseyNeistat</td>\n",
       "      <td>22</td>\n",
       "      <td>2017-11-13T17:13:01.000Z</td>\n",
       "      <td>SHANtell martin</td>\n",
       "      <td>748374</td>\n",
       "      <td>57527</td>\n",
       "      <td>2966</td>\n",
       "      <td>15954</td>\n",
       "      <td>https://i.ytimg.com/vi/2kyS6SvSYSE/default.jpg</td>\n",
       "      <td>False</td>\n",
       "      <td>False</td>\n",
       "      <td>False</td>\n",
       "      <td>SHANTELL'S CHANNEL - https://www.youtube.com/s...</td>\n",
       "    </tr>\n",
       "    <tr>\n",
       "      <th>1</th>\n",
       "      <td>1ZAPwfrtAFY</td>\n",
       "      <td>17.14.11</td>\n",
       "      <td>The Trump Presidency: Last Week Tonight with J...</td>\n",
       "      <td>LastWeekTonight</td>\n",
       "      <td>24</td>\n",
       "      <td>2017-11-13T07:30:00.000Z</td>\n",
       "      <td>last week tonight trump presidency|\"last week ...</td>\n",
       "      <td>2418783</td>\n",
       "      <td>97185</td>\n",
       "      <td>6146</td>\n",
       "      <td>12703</td>\n",
       "      <td>https://i.ytimg.com/vi/1ZAPwfrtAFY/default.jpg</td>\n",
       "      <td>False</td>\n",
       "      <td>False</td>\n",
       "      <td>False</td>\n",
       "      <td>One year after the presidential election, John...</td>\n",
       "    </tr>\n",
       "    <tr>\n",
       "      <th>2</th>\n",
       "      <td>5qpjK5DgCt4</td>\n",
       "      <td>17.14.11</td>\n",
       "      <td>Racist Superman | Rudy Mancuso, King Bach &amp; Le...</td>\n",
       "      <td>Rudy Mancuso</td>\n",
       "      <td>23</td>\n",
       "      <td>2017-11-12T19:05:24.000Z</td>\n",
       "      <td>racist superman|\"rudy\"|\"mancuso\"|\"king\"|\"bach\"...</td>\n",
       "      <td>3191434</td>\n",
       "      <td>146033</td>\n",
       "      <td>5339</td>\n",
       "      <td>8181</td>\n",
       "      <td>https://i.ytimg.com/vi/5qpjK5DgCt4/default.jpg</td>\n",
       "      <td>False</td>\n",
       "      <td>False</td>\n",
       "      <td>False</td>\n",
       "      <td>WATCH MY PREVIOUS VIDEO ▶ \\n\\nSUBSCRIBE ► http...</td>\n",
       "    </tr>\n",
       "    <tr>\n",
       "      <th>3</th>\n",
       "      <td>puqaWrEC7tY</td>\n",
       "      <td>17.14.11</td>\n",
       "      <td>Nickelback Lyrics: Real or Fake?</td>\n",
       "      <td>Good Mythical Morning</td>\n",
       "      <td>24</td>\n",
       "      <td>2017-11-13T11:00:04.000Z</td>\n",
       "      <td>rhett and link|\"gmm\"|\"good mythical morning\"|\"...</td>\n",
       "      <td>343168</td>\n",
       "      <td>10172</td>\n",
       "      <td>666</td>\n",
       "      <td>2146</td>\n",
       "      <td>https://i.ytimg.com/vi/puqaWrEC7tY/default.jpg</td>\n",
       "      <td>False</td>\n",
       "      <td>False</td>\n",
       "      <td>False</td>\n",
       "      <td>Today we find out if Link is a Nickelback amat...</td>\n",
       "    </tr>\n",
       "    <tr>\n",
       "      <th>4</th>\n",
       "      <td>d380meD0W0M</td>\n",
       "      <td>17.14.11</td>\n",
       "      <td>I Dare You: GOING BALD!?</td>\n",
       "      <td>nigahiga</td>\n",
       "      <td>24</td>\n",
       "      <td>2017-11-12T18:01:41.000Z</td>\n",
       "      <td>ryan|\"higa\"|\"higatv\"|\"nigahiga\"|\"i dare you\"|\"...</td>\n",
       "      <td>2095731</td>\n",
       "      <td>132235</td>\n",
       "      <td>1989</td>\n",
       "      <td>17518</td>\n",
       "      <td>https://i.ytimg.com/vi/d380meD0W0M/default.jpg</td>\n",
       "      <td>False</td>\n",
       "      <td>False</td>\n",
       "      <td>False</td>\n",
       "      <td>I know it's been a while since we did this sho...</td>\n",
       "    </tr>\n",
       "  </tbody>\n",
       "</table>\n",
       "</div>"
      ],
      "text/plain": [
       "      video_id trending_date  \\\n",
       "0  2kyS6SvSYSE      17.14.11   \n",
       "1  1ZAPwfrtAFY      17.14.11   \n",
       "2  5qpjK5DgCt4      17.14.11   \n",
       "3  puqaWrEC7tY      17.14.11   \n",
       "4  d380meD0W0M      17.14.11   \n",
       "\n",
       "                                               title          channel_title  \\\n",
       "0                 WE WANT TO TALK ABOUT OUR MARRIAGE           CaseyNeistat   \n",
       "1  The Trump Presidency: Last Week Tonight with J...        LastWeekTonight   \n",
       "2  Racist Superman | Rudy Mancuso, King Bach & Le...           Rudy Mancuso   \n",
       "3                   Nickelback Lyrics: Real or Fake?  Good Mythical Morning   \n",
       "4                           I Dare You: GOING BALD!?               nigahiga   \n",
       "\n",
       "   category_id              publish_time  \\\n",
       "0           22  2017-11-13T17:13:01.000Z   \n",
       "1           24  2017-11-13T07:30:00.000Z   \n",
       "2           23  2017-11-12T19:05:24.000Z   \n",
       "3           24  2017-11-13T11:00:04.000Z   \n",
       "4           24  2017-11-12T18:01:41.000Z   \n",
       "\n",
       "                                                tags    views   likes  \\\n",
       "0                                    SHANtell martin   748374   57527   \n",
       "1  last week tonight trump presidency|\"last week ...  2418783   97185   \n",
       "2  racist superman|\"rudy\"|\"mancuso\"|\"king\"|\"bach\"...  3191434  146033   \n",
       "3  rhett and link|\"gmm\"|\"good mythical morning\"|\"...   343168   10172   \n",
       "4  ryan|\"higa\"|\"higatv\"|\"nigahiga\"|\"i dare you\"|\"...  2095731  132235   \n",
       "\n",
       "   dislikes  comment_count                                  thumbnail_link  \\\n",
       "0      2966          15954  https://i.ytimg.com/vi/2kyS6SvSYSE/default.jpg   \n",
       "1      6146          12703  https://i.ytimg.com/vi/1ZAPwfrtAFY/default.jpg   \n",
       "2      5339           8181  https://i.ytimg.com/vi/5qpjK5DgCt4/default.jpg   \n",
       "3       666           2146  https://i.ytimg.com/vi/puqaWrEC7tY/default.jpg   \n",
       "4      1989          17518  https://i.ytimg.com/vi/d380meD0W0M/default.jpg   \n",
       "\n",
       "   comments_disabled  ratings_disabled  video_error_or_removed  \\\n",
       "0              False             False                   False   \n",
       "1              False             False                   False   \n",
       "2              False             False                   False   \n",
       "3              False             False                   False   \n",
       "4              False             False                   False   \n",
       "\n",
       "                                         description  \n",
       "0  SHANTELL'S CHANNEL - https://www.youtube.com/s...  \n",
       "1  One year after the presidential election, John...  \n",
       "2  WATCH MY PREVIOUS VIDEO ▶ \\n\\nSUBSCRIBE ► http...  \n",
       "3  Today we find out if Link is a Nickelback amat...  \n",
       "4  I know it's been a while since we did this sho...  "
      ]
     },
     "execution_count": 11,
     "metadata": {},
     "output_type": "execute_result"
    }
   ],
   "source": [
    "USvideos.head()"
   ]
  },
  {
   "cell_type": "code",
   "execution_count": 12,
   "metadata": {
    "id": "y4pvPSAxcSKK",
    "outputId": "1aa17ac4-6c31-4bcb-9388-e1b02586b3af"
   },
   "outputs": [
    {
     "data": {
      "text/plain": [
       "(40949, 18)"
      ]
     },
     "execution_count": 12,
     "metadata": {},
     "output_type": "execute_result"
    }
   ],
   "source": [
    "df = pd.merge(USvideos, US_category_id, left_on = \"category_id\", right_on=\"id\", how = \"left\")\n",
    "df.shape"
   ]
  },
  {
   "cell_type": "code",
   "execution_count": 13,
   "metadata": {
    "id": "FPylRvUHcSKK",
    "outputId": "69318a8e-c1c6-437f-8f78-12dc72d1b635"
   },
   "outputs": [
    {
     "data": {
      "text/plain": [
       "Entertainment            0.24\n",
       "Music                    0.16\n",
       "Howto & Style            0.10\n",
       "Comedy                   0.08\n",
       "People & Blogs           0.08\n",
       "News & Politics          0.06\n",
       "Science & Technology     0.06\n",
       "Film & Animation         0.06\n",
       "Sports                   0.05\n",
       "Education                0.04\n",
       "Pets & Animals           0.02\n",
       "Gaming                   0.02\n",
       "Travel & Events          0.01\n",
       "Autos & Vehicles         0.01\n",
       "Nonprofits & Activism    0.00\n",
       "Shows                    0.00\n",
       "Name: category_name, dtype: float64"
      ]
     },
     "execution_count": 13,
     "metadata": {},
     "output_type": "execute_result"
    }
   ],
   "source": [
    "#highest : entertainment and music categories but contains duplicate rows\n",
    "np.round(df[\"category_name\"].value_counts()/len(df),2)"
   ]
  },
  {
   "cell_type": "code",
   "execution_count": 14,
   "metadata": {
    "id": "cZbGLqsVcSKK",
    "outputId": "ea3e0e4e-30d2-489b-90ee-3986dd1c599b"
   },
   "outputs": [
    {
     "data": {
      "text/plain": [
       "6351"
      ]
     },
     "execution_count": 14,
     "metadata": {},
     "output_type": "execute_result"
    }
   ],
   "source": [
    "#no. of unique videos\n",
    "df.video_id.nunique()"
   ]
  },
  {
   "cell_type": "code",
   "execution_count": 15,
   "metadata": {
    "id": "exvOtqatcSKK",
    "outputId": "0004e923-9a18-468b-dae6-8ee4899a9885"
   },
   "outputs": [
    {
     "data": {
      "text/html": [
       "<div>\n",
       "<style scoped>\n",
       "    .dataframe tbody tr th:only-of-type {\n",
       "        vertical-align: middle;\n",
       "    }\n",
       "\n",
       "    .dataframe tbody tr th {\n",
       "        vertical-align: top;\n",
       "    }\n",
       "\n",
       "    .dataframe thead th {\n",
       "        text-align: right;\n",
       "    }\n",
       "</style>\n",
       "<table border=\"1\" class=\"dataframe\">\n",
       "  <thead>\n",
       "    <tr style=\"text-align: right;\">\n",
       "      <th></th>\n",
       "      <th>video_id</th>\n",
       "      <th>trending_date</th>\n",
       "      <th>title</th>\n",
       "      <th>channel_title</th>\n",
       "      <th>category_id</th>\n",
       "      <th>publish_time</th>\n",
       "      <th>tags</th>\n",
       "      <th>views</th>\n",
       "      <th>likes</th>\n",
       "      <th>dislikes</th>\n",
       "      <th>comment_count</th>\n",
       "      <th>thumbnail_link</th>\n",
       "      <th>comments_disabled</th>\n",
       "      <th>ratings_disabled</th>\n",
       "      <th>video_error_or_removed</th>\n",
       "      <th>description</th>\n",
       "      <th>id</th>\n",
       "      <th>category_name</th>\n",
       "    </tr>\n",
       "  </thead>\n",
       "  <tbody>\n",
       "    <tr>\n",
       "      <th>0</th>\n",
       "      <td>2kyS6SvSYSE</td>\n",
       "      <td>17.14.11</td>\n",
       "      <td>WE WANT TO TALK ABOUT OUR MARRIAGE</td>\n",
       "      <td>CaseyNeistat</td>\n",
       "      <td>22</td>\n",
       "      <td>2017-11-13T17:13:01.000Z</td>\n",
       "      <td>SHANtell martin</td>\n",
       "      <td>748374</td>\n",
       "      <td>57527</td>\n",
       "      <td>2966</td>\n",
       "      <td>15954</td>\n",
       "      <td>https://i.ytimg.com/vi/2kyS6SvSYSE/default.jpg</td>\n",
       "      <td>False</td>\n",
       "      <td>False</td>\n",
       "      <td>False</td>\n",
       "      <td>SHANTELL'S CHANNEL - https://www.youtube.com/s...</td>\n",
       "      <td>22</td>\n",
       "      <td>People &amp; Blogs</td>\n",
       "    </tr>\n",
       "    <tr>\n",
       "      <th>217</th>\n",
       "      <td>2kyS6SvSYSE</td>\n",
       "      <td>17.15.11</td>\n",
       "      <td>WE WANT TO TALK ABOUT OUR MARRIAGE</td>\n",
       "      <td>CaseyNeistat</td>\n",
       "      <td>22</td>\n",
       "      <td>2017-11-13T17:13:01.000Z</td>\n",
       "      <td>SHANtell martin</td>\n",
       "      <td>2188590</td>\n",
       "      <td>88099</td>\n",
       "      <td>7150</td>\n",
       "      <td>24225</td>\n",
       "      <td>https://i.ytimg.com/vi/2kyS6SvSYSE/default.jpg</td>\n",
       "      <td>False</td>\n",
       "      <td>False</td>\n",
       "      <td>False</td>\n",
       "      <td>SHANTELL'S CHANNEL - https://www.youtube.com/s...</td>\n",
       "      <td>22</td>\n",
       "      <td>People &amp; Blogs</td>\n",
       "    </tr>\n",
       "    <tr>\n",
       "      <th>448</th>\n",
       "      <td>2kyS6SvSYSE</td>\n",
       "      <td>17.16.11</td>\n",
       "      <td>WE WANT TO TALK ABOUT OUR MARRIAGE</td>\n",
       "      <td>CaseyNeistat</td>\n",
       "      <td>22</td>\n",
       "      <td>2017-11-13T17:13:01.000Z</td>\n",
       "      <td>SHANtell martin</td>\n",
       "      <td>2325233</td>\n",
       "      <td>91111</td>\n",
       "      <td>7543</td>\n",
       "      <td>21450</td>\n",
       "      <td>https://i.ytimg.com/vi/2kyS6SvSYSE/default.jpg</td>\n",
       "      <td>False</td>\n",
       "      <td>False</td>\n",
       "      <td>False</td>\n",
       "      <td>SHANTELL'S CHANNEL - https://www.youtube.com/s...</td>\n",
       "      <td>22</td>\n",
       "      <td>People &amp; Blogs</td>\n",
       "    </tr>\n",
       "    <tr>\n",
       "      <th>689</th>\n",
       "      <td>2kyS6SvSYSE</td>\n",
       "      <td>17.17.11</td>\n",
       "      <td>WE WANT TO TALK ABOUT OUR MARRIAGE</td>\n",
       "      <td>CaseyNeistat</td>\n",
       "      <td>22</td>\n",
       "      <td>2017-11-13T17:13:01.000Z</td>\n",
       "      <td>SHANtell martin</td>\n",
       "      <td>2400741</td>\n",
       "      <td>92831</td>\n",
       "      <td>7687</td>\n",
       "      <td>21714</td>\n",
       "      <td>https://i.ytimg.com/vi/2kyS6SvSYSE/default.jpg</td>\n",
       "      <td>False</td>\n",
       "      <td>False</td>\n",
       "      <td>False</td>\n",
       "      <td>SHANTELL'S CHANNEL - https://www.youtube.com/s...</td>\n",
       "      <td>22</td>\n",
       "      <td>People &amp; Blogs</td>\n",
       "    </tr>\n",
       "    <tr>\n",
       "      <th>924</th>\n",
       "      <td>2kyS6SvSYSE</td>\n",
       "      <td>17.18.11</td>\n",
       "      <td>WE WANT TO TALK ABOUT OUR MARRIAGE</td>\n",
       "      <td>CaseyNeistat</td>\n",
       "      <td>22</td>\n",
       "      <td>2017-11-13T17:13:01.000Z</td>\n",
       "      <td>SHANtell martin</td>\n",
       "      <td>2468267</td>\n",
       "      <td>94303</td>\n",
       "      <td>7802</td>\n",
       "      <td>21866</td>\n",
       "      <td>https://i.ytimg.com/vi/2kyS6SvSYSE/default.jpg</td>\n",
       "      <td>False</td>\n",
       "      <td>False</td>\n",
       "      <td>False</td>\n",
       "      <td>SHANTELL'S CHANNEL - https://www.youtube.com/s...</td>\n",
       "      <td>22</td>\n",
       "      <td>People &amp; Blogs</td>\n",
       "    </tr>\n",
       "    <tr>\n",
       "      <th>1159</th>\n",
       "      <td>2kyS6SvSYSE</td>\n",
       "      <td>17.19.11</td>\n",
       "      <td>WE WANT TO TALK ABOUT OUR MARRIAGE</td>\n",
       "      <td>CaseyNeistat</td>\n",
       "      <td>22</td>\n",
       "      <td>2017-11-13T17:13:01.000Z</td>\n",
       "      <td>SHANtell martin</td>\n",
       "      <td>2524854</td>\n",
       "      <td>95587</td>\n",
       "      <td>7892</td>\n",
       "      <td>22038</td>\n",
       "      <td>https://i.ytimg.com/vi/2kyS6SvSYSE/default.jpg</td>\n",
       "      <td>False</td>\n",
       "      <td>False</td>\n",
       "      <td>False</td>\n",
       "      <td>SHANTELL'S CHANNEL - https://www.youtube.com/s...</td>\n",
       "      <td>22</td>\n",
       "      <td>People &amp; Blogs</td>\n",
       "    </tr>\n",
       "    <tr>\n",
       "      <th>1383</th>\n",
       "      <td>2kyS6SvSYSE</td>\n",
       "      <td>17.20.11</td>\n",
       "      <td>WE WANT TO TALK ABOUT OUR MARRIAGE</td>\n",
       "      <td>CaseyNeistat</td>\n",
       "      <td>22</td>\n",
       "      <td>2017-11-13T17:13:01.000Z</td>\n",
       "      <td>SHANtell martin</td>\n",
       "      <td>2564903</td>\n",
       "      <td>96321</td>\n",
       "      <td>7972</td>\n",
       "      <td>22149</td>\n",
       "      <td>https://i.ytimg.com/vi/2kyS6SvSYSE/default.jpg</td>\n",
       "      <td>False</td>\n",
       "      <td>False</td>\n",
       "      <td>False</td>\n",
       "      <td>SHANTELL'S CHANNEL - https://www.youtube.com/s...</td>\n",
       "      <td>22</td>\n",
       "      <td>People &amp; Blogs</td>\n",
       "    </tr>\n",
       "  </tbody>\n",
       "</table>\n",
       "</div>"
      ],
      "text/plain": [
       "         video_id trending_date                               title  \\\n",
       "0     2kyS6SvSYSE      17.14.11  WE WANT TO TALK ABOUT OUR MARRIAGE   \n",
       "217   2kyS6SvSYSE      17.15.11  WE WANT TO TALK ABOUT OUR MARRIAGE   \n",
       "448   2kyS6SvSYSE      17.16.11  WE WANT TO TALK ABOUT OUR MARRIAGE   \n",
       "689   2kyS6SvSYSE      17.17.11  WE WANT TO TALK ABOUT OUR MARRIAGE   \n",
       "924   2kyS6SvSYSE      17.18.11  WE WANT TO TALK ABOUT OUR MARRIAGE   \n",
       "1159  2kyS6SvSYSE      17.19.11  WE WANT TO TALK ABOUT OUR MARRIAGE   \n",
       "1383  2kyS6SvSYSE      17.20.11  WE WANT TO TALK ABOUT OUR MARRIAGE   \n",
       "\n",
       "     channel_title  category_id              publish_time             tags  \\\n",
       "0     CaseyNeistat           22  2017-11-13T17:13:01.000Z  SHANtell martin   \n",
       "217   CaseyNeistat           22  2017-11-13T17:13:01.000Z  SHANtell martin   \n",
       "448   CaseyNeistat           22  2017-11-13T17:13:01.000Z  SHANtell martin   \n",
       "689   CaseyNeistat           22  2017-11-13T17:13:01.000Z  SHANtell martin   \n",
       "924   CaseyNeistat           22  2017-11-13T17:13:01.000Z  SHANtell martin   \n",
       "1159  CaseyNeistat           22  2017-11-13T17:13:01.000Z  SHANtell martin   \n",
       "1383  CaseyNeistat           22  2017-11-13T17:13:01.000Z  SHANtell martin   \n",
       "\n",
       "        views  likes  dislikes  comment_count  \\\n",
       "0      748374  57527      2966          15954   \n",
       "217   2188590  88099      7150          24225   \n",
       "448   2325233  91111      7543          21450   \n",
       "689   2400741  92831      7687          21714   \n",
       "924   2468267  94303      7802          21866   \n",
       "1159  2524854  95587      7892          22038   \n",
       "1383  2564903  96321      7972          22149   \n",
       "\n",
       "                                      thumbnail_link  comments_disabled  \\\n",
       "0     https://i.ytimg.com/vi/2kyS6SvSYSE/default.jpg              False   \n",
       "217   https://i.ytimg.com/vi/2kyS6SvSYSE/default.jpg              False   \n",
       "448   https://i.ytimg.com/vi/2kyS6SvSYSE/default.jpg              False   \n",
       "689   https://i.ytimg.com/vi/2kyS6SvSYSE/default.jpg              False   \n",
       "924   https://i.ytimg.com/vi/2kyS6SvSYSE/default.jpg              False   \n",
       "1159  https://i.ytimg.com/vi/2kyS6SvSYSE/default.jpg              False   \n",
       "1383  https://i.ytimg.com/vi/2kyS6SvSYSE/default.jpg              False   \n",
       "\n",
       "      ratings_disabled  video_error_or_removed  \\\n",
       "0                False                   False   \n",
       "217              False                   False   \n",
       "448              False                   False   \n",
       "689              False                   False   \n",
       "924              False                   False   \n",
       "1159             False                   False   \n",
       "1383             False                   False   \n",
       "\n",
       "                                            description  id   category_name  \n",
       "0     SHANTELL'S CHANNEL - https://www.youtube.com/s...  22  People & Blogs  \n",
       "217   SHANTELL'S CHANNEL - https://www.youtube.com/s...  22  People & Blogs  \n",
       "448   SHANTELL'S CHANNEL - https://www.youtube.com/s...  22  People & Blogs  \n",
       "689   SHANTELL'S CHANNEL - https://www.youtube.com/s...  22  People & Blogs  \n",
       "924   SHANTELL'S CHANNEL - https://www.youtube.com/s...  22  People & Blogs  \n",
       "1159  SHANTELL'S CHANNEL - https://www.youtube.com/s...  22  People & Blogs  \n",
       "1383  SHANTELL'S CHANNEL - https://www.youtube.com/s...  22  People & Blogs  "
      ]
     },
     "execution_count": 15,
     "metadata": {},
     "output_type": "execute_result"
    }
   ],
   "source": [
    "# one video id having many rows with same information for text var(s)\n",
    "df.loc[df.video_id == \"2kyS6SvSYSE\", :]"
   ]
  },
  {
   "cell_type": "code",
   "execution_count": 16,
   "metadata": {
    "id": "Be8-DC-FcSKL",
    "outputId": "dc2b4f04-c1bb-40ca-e1fc-d6984488a851"
   },
   "outputs": [
    {
     "data": {
      "text/plain": [
       "(6351, 18)"
      ]
     },
     "execution_count": 16,
     "metadata": {},
     "output_type": "execute_result"
    }
   ],
   "source": [
    "df.sort_values(by = [\"video_id\", \"trending_date\", \"publish_time\"], inplace=True)\n",
    "df = df.groupby(\"video_id\").last().reset_index()\n",
    "df.shape"
   ]
  },
  {
   "cell_type": "code",
   "execution_count": 17,
   "metadata": {},
   "outputs": [
    {
     "data": {
      "text/plain": [
       "Index(['video_id', 'trending_date', 'title', 'channel_title', 'category_id',\n",
       "       'publish_time', 'tags', 'views', 'likes', 'dislikes', 'comment_count',\n",
       "       'thumbnail_link', 'comments_disabled', 'ratings_disabled',\n",
       "       'video_error_or_removed', 'description', 'id', 'category_name'],\n",
       "      dtype='object')"
      ]
     },
     "execution_count": 17,
     "metadata": {},
     "output_type": "execute_result"
    }
   ],
   "source": [
    "df.columns"
   ]
  },
  {
   "cell_type": "markdown",
   "metadata": {},
   "source": [
    "This clean dataset was saved and imported again to run analysis and modeling etc. There were few redundant rows (redundant text was dragged to the next rows) which got truncated. Hence, the new shape is (6436, 18)"
   ]
  },
  {
   "cell_type": "code",
   "execution_count": 31,
   "metadata": {
    "colab": {
     "base_uri": "https://localhost:8080/"
    },
    "executionInfo": {
     "elapsed": 314,
     "status": "ok",
     "timestamp": 1682276742011,
     "user": {
      "displayName": "Simran Deep Kaur Padam",
      "userId": "05658118327499329444"
     },
     "user_tz": 240
    },
    "id": "XrNlNyX6cSKL",
    "outputId": "fea4e117-2424-4fb7-f5dc-1540b960d392"
   },
   "outputs": [],
   "source": [
    "youtube_data=pd.read_csv('youtube_data.csv')"
   ]
  },
  {
   "cell_type": "code",
   "execution_count": 32,
   "metadata": {
    "id": "046NrhDecSKL"
   },
   "outputs": [
    {
     "name": "stdout",
     "output_type": "stream",
     "text": [
      "<class 'pandas.core.frame.DataFrame'>\n",
      "RangeIndex: 6436 entries, 0 to 6435\n",
      "Data columns (total 19 columns):\n",
      " #   Column                  Non-Null Count  Dtype  \n",
      "---  ------                  --------------  -----  \n",
      " 0   Unnamed: 0              6436 non-null   object \n",
      " 1   video_id                6368 non-null   object \n",
      " 2   trending_date           6368 non-null   object \n",
      " 3   title                   6351 non-null   object \n",
      " 4   channel_title           6351 non-null   object \n",
      " 5   category_id             6351 non-null   float64\n",
      " 6   publish_time            6351 non-null   object \n",
      " 7   tags                    6351 non-null   object \n",
      " 8   views                   6351 non-null   float64\n",
      " 9   likes                   6351 non-null   float64\n",
      " 10  dislikes                6351 non-null   float64\n",
      " 11  comment_count           6351 non-null   float64\n",
      " 12  thumbnail_link          6351 non-null   object \n",
      " 13  comments_disabled       6351 non-null   object \n",
      " 14  ratings_disabled        6351 non-null   object \n",
      " 15  video_error_or_removed  6351 non-null   object \n",
      " 16  description             6254 non-null   object \n",
      " 17  id                      6334 non-null   float64\n",
      " 18  category_name           6334 non-null   object \n",
      "dtypes: float64(6), object(13)\n",
      "memory usage: 955.5+ KB\n",
      "None\n",
      "  Unnamed: 0     video_id trending_date  \\\n",
      "0          0  -0CMnp02rNY      18.11.06   \n",
      "1          1  -0NYY8cqdiQ      18.01.02   \n",
      "2          2  -1Hm41N0dUs      18.30.04   \n",
      "3          3  -1yT-K3c6YI      17.30.11   \n",
      "4          4  -2RVw2_QyxQ      17.16.11   \n",
      "\n",
      "                                               title           channel_title  \\\n",
      "0  Mindy Kaling's Daughter Had the Perfect Reacti...            TheEllenShow   \n",
      "1  Megan Mullally Didn't Notice the Interesting P...            TheEllenShow   \n",
      "2  Cast of Avengers: Infinity War Draws Their Cha...       Jimmy Kimmel Live   \n",
      "3  YOUTUBER QUIZ + TRUTH OR DARE W/ THE MERRELL T...             Molly Burke   \n",
      "4                     2017 Champions Showdown: Day 3  Saint Louis Chess Club   \n",
      "\n",
      "   category_id              publish_time  \\\n",
      "0         24.0  2018-06-04T13:00:00.000Z   \n",
      "1         24.0  2018-01-29T14:00:39.000Z   \n",
      "2         23.0  2018-04-27T07:30:02.000Z   \n",
      "3         22.0  2017-11-28T18:30:43.000Z   \n",
      "4         27.0  2017-11-12T02:39:01.000Z   \n",
      "\n",
      "                                                tags      views    likes  \\\n",
      "0  ellen|\"ellen degeneres\"|\"the ellen show\"|\"elle...   800359.0   9773.0   \n",
      "1  megan mullally|\"megan\"|\"mullally\"|\"will and gr...   563746.0   4429.0   \n",
      "2  jimmy|\"jimmy kimmel\"|\"jimmy kimmel live\"|\"late...  1882352.0  38165.0   \n",
      "3  youtube quiz|\"youtuber quiz\"|\"truth or dare\"|\"...   198315.0   6950.0   \n",
      "4                         Chess|\"Saint Louis\"|\"Club\"    71089.0    460.0   \n",
      "\n",
      "   dislikes  comment_count                                  thumbnail_link  \\\n",
      "0     332.0          423.0  https://i.ytimg.com/vi/-0CMnp02rNY/default.jpg   \n",
      "1      54.0           94.0  https://i.ytimg.com/vi/-0NYY8cqdiQ/default.jpg   \n",
      "2     530.0         1412.0  https://i.ytimg.com/vi/-1Hm41N0dUs/default.jpg   \n",
      "3     184.0          735.0  https://i.ytimg.com/vi/-1yT-K3c6YI/default.jpg   \n",
      "4      27.0           20.0  https://i.ytimg.com/vi/-2RVw2_QyxQ/default.jpg   \n",
      "\n",
      "  comments_disabled ratings_disabled video_error_or_removed  \\\n",
      "0             False            False                  False   \n",
      "1             False            False                  False   \n",
      "2             False            False                  False   \n",
      "3             False            False                  False   \n",
      "4             False            False                  False   \n",
      "\n",
      "                                         description    id   category_name  \n",
      "0  Ocean's 8 star Mindy Kaling dished on bringing...  24.0   Entertainment  \n",
      "1  Ellen and Megan Mullally have known each other...  24.0   Entertainment  \n",
      "2  Benedict Cumberbatch, Don Cheadle, Elizabeth O...  23.0          Comedy  \n",
      "3  Check out the video we did on the Merrell Twin...  22.0  People & Blogs  \n",
      "4  The Saint Louis Chess Club hosts a series of f...  27.0       Education  \n"
     ]
    }
   ],
   "source": [
    "print(youtube_data.info())\n",
    "print(youtube_data.head())"
   ]
  },
  {
   "cell_type": "code",
   "execution_count": 33,
   "metadata": {},
   "outputs": [
    {
     "name": "stdout",
     "output_type": "stream",
     "text": [
      "Unnamed: 0                  0\n",
      "video_id                   68\n",
      "trending_date              68\n",
      "title                      85\n",
      "channel_title              85\n",
      "category_id                85\n",
      "publish_time               85\n",
      "tags                       85\n",
      "views                      85\n",
      "likes                      85\n",
      "dislikes                   85\n",
      "comment_count              85\n",
      "thumbnail_link             85\n",
      "comments_disabled          85\n",
      "ratings_disabled           85\n",
      "video_error_or_removed     85\n",
      "description               182\n",
      "id                        102\n",
      "category_name             102\n",
      "dtype: int64\n"
     ]
    }
   ],
   "source": [
    "#Check for missing values\n",
    "print(youtube_data.isnull().sum())"
   ]
  },
  {
   "cell_type": "code",
   "execution_count": 34,
   "metadata": {},
   "outputs": [
    {
     "name": "stdout",
     "output_type": "stream",
     "text": [
      "39\n"
     ]
    }
   ],
   "source": [
    "#Check for duplicates\n",
    "print(youtube_data.duplicated().sum())"
   ]
  },
  {
   "cell_type": "code",
   "execution_count": 35,
   "metadata": {},
   "outputs": [
    {
     "name": "stdout",
     "output_type": "stream",
     "text": [
      "0\n"
     ]
    }
   ],
   "source": [
    "df2 = youtube_data.drop_duplicates(keep=False)\n",
    "df2=df2.dropna()\n",
    "print(df2.duplicated().sum())"
   ]
  },
  {
   "cell_type": "code",
   "execution_count": 36,
   "metadata": {},
   "outputs": [
    {
     "data": {
      "text/html": [
       "<div>\n",
       "<style scoped>\n",
       "    .dataframe tbody tr th:only-of-type {\n",
       "        vertical-align: middle;\n",
       "    }\n",
       "\n",
       "    .dataframe tbody tr th {\n",
       "        vertical-align: top;\n",
       "    }\n",
       "\n",
       "    .dataframe thead th {\n",
       "        text-align: right;\n",
       "    }\n",
       "</style>\n",
       "<table border=\"1\" class=\"dataframe\">\n",
       "  <thead>\n",
       "    <tr style=\"text-align: right;\">\n",
       "      <th></th>\n",
       "      <th>Unnamed: 0</th>\n",
       "      <th>video_id</th>\n",
       "      <th>trending_date</th>\n",
       "      <th>title</th>\n",
       "      <th>channel_title</th>\n",
       "      <th>category_id</th>\n",
       "      <th>publish_time</th>\n",
       "      <th>tags</th>\n",
       "      <th>views</th>\n",
       "      <th>likes</th>\n",
       "      <th>dislikes</th>\n",
       "      <th>comment_count</th>\n",
       "      <th>thumbnail_link</th>\n",
       "      <th>comments_disabled</th>\n",
       "      <th>ratings_disabled</th>\n",
       "      <th>video_error_or_removed</th>\n",
       "      <th>description</th>\n",
       "      <th>id</th>\n",
       "      <th>category_name</th>\n",
       "    </tr>\n",
       "  </thead>\n",
       "  <tbody>\n",
       "    <tr>\n",
       "      <th>6430</th>\n",
       "      <td>6345</td>\n",
       "      <td>zvjqcoiOPbE</td>\n",
       "      <td>18.12.01</td>\n",
       "      <td>Breaking Benjamin - Red Cold River (Audio Only)</td>\n",
       "      <td>BreakingBenjaminVEVO</td>\n",
       "      <td>10.0</td>\n",
       "      <td>2018-01-05T05:00:03.000Z</td>\n",
       "      <td>breaking benjamin red cold river|\"breaking ben...</td>\n",
       "      <td>1329689.0</td>\n",
       "      <td>47497.0</td>\n",
       "      <td>1170.0</td>\n",
       "      <td>5787.0</td>\n",
       "      <td>https://i.ytimg.com/vi/zvjqcoiOPbE/default.jpg</td>\n",
       "      <td>False</td>\n",
       "      <td>False</td>\n",
       "      <td>False</td>\n",
       "      <td>Red Cold River is available here:\\nDownload: h...</td>\n",
       "      <td>10.0</td>\n",
       "      <td>Music</td>\n",
       "    </tr>\n",
       "    <tr>\n",
       "      <th>6431</th>\n",
       "      <td>6346</td>\n",
       "      <td>zwEn-ambXLw</td>\n",
       "      <td>18.31.03</td>\n",
       "      <td>This Is Me - Cover by Shoshana Bean Featuring ...</td>\n",
       "      <td>Shoshana Bean</td>\n",
       "      <td>10.0</td>\n",
       "      <td>2018-03-22T08:30:07.000Z</td>\n",
       "      <td>travis wall|\"shoshana bean\"|\"greatest showman\"...</td>\n",
       "      <td>190898.0</td>\n",
       "      <td>6731.0</td>\n",
       "      <td>113.0</td>\n",
       "      <td>292.0</td>\n",
       "      <td>https://i.ytimg.com/vi/zwEn-ambXLw/default.jpg</td>\n",
       "      <td>False</td>\n",
       "      <td>False</td>\n",
       "      <td>False</td>\n",
       "      <td>I was lucky enough to lay the original demo fo...</td>\n",
       "      <td>10.0</td>\n",
       "      <td>Music</td>\n",
       "    </tr>\n",
       "    <tr>\n",
       "      <th>6432</th>\n",
       "      <td>6347</td>\n",
       "      <td>zxUwbflE1SY</td>\n",
       "      <td>17.19.11</td>\n",
       "      <td>100 People Hold Their Breath for as Long as Th...</td>\n",
       "      <td>Cut</td>\n",
       "      <td>24.0</td>\n",
       "      <td>2017-11-13T13:00:10.000Z</td>\n",
       "      <td>breath|\"hold\"|\"funny\"|\"holding breath\"|\"breath...</td>\n",
       "      <td>225280.0</td>\n",
       "      <td>5770.0</td>\n",
       "      <td>150.0</td>\n",
       "      <td>1312.0</td>\n",
       "      <td>https://i.ytimg.com/vi/zxUwbflE1SY/default.jpg</td>\n",
       "      <td>False</td>\n",
       "      <td>False</td>\n",
       "      <td>False</td>\n",
       "      <td>Get Cut swag here: http://cut.com/shop\\n\\nDon’...</td>\n",
       "      <td>24.0</td>\n",
       "      <td>Entertainment</td>\n",
       "    </tr>\n",
       "    <tr>\n",
       "      <th>6434</th>\n",
       "      <td>6349</td>\n",
       "      <td>zy0b9e40tK8</td>\n",
       "      <td>17.14.11</td>\n",
       "      <td>Dark | Official Trailer [HD] | Netflix</td>\n",
       "      <td>Netflix</td>\n",
       "      <td>24.0</td>\n",
       "      <td>2017-11-09T09:00:07.000Z</td>\n",
       "      <td>Netflix|\"Baran Bo Odar\"|\"Jantje Friese\"|\"DARK\"...</td>\n",
       "      <td>378750.0</td>\n",
       "      <td>5642.0</td>\n",
       "      <td>146.0</td>\n",
       "      <td>675.0</td>\n",
       "      <td>https://i.ytimg.com/vi/zy0b9e40tK8/default.jpg</td>\n",
       "      <td>False</td>\n",
       "      <td>False</td>\n",
       "      <td>False</td>\n",
       "      <td>The disappearance of two kids in the German sm...</td>\n",
       "      <td>24.0</td>\n",
       "      <td>Entertainment</td>\n",
       "    </tr>\n",
       "    <tr>\n",
       "      <th>6435</th>\n",
       "      <td>6350</td>\n",
       "      <td>zzQsGL_F9_c</td>\n",
       "      <td>18.06.02</td>\n",
       "      <td>Budweiser | Beer Country | :60</td>\n",
       "      <td>Budweiser</td>\n",
       "      <td>24.0</td>\n",
       "      <td>2018-01-30T18:30:04.000Z</td>\n",
       "      <td>Budweiser|\"Super Bowl\"|\"Clydesdales\"|\"Bud\"|\"Th...</td>\n",
       "      <td>199041.0</td>\n",
       "      <td>1415.0</td>\n",
       "      <td>121.0</td>\n",
       "      <td>62.0</td>\n",
       "      <td>https://i.ytimg.com/vi/zzQsGL_F9_c/default.jpg</td>\n",
       "      <td>False</td>\n",
       "      <td>False</td>\n",
       "      <td>False</td>\n",
       "      <td>This is a story bigger than beer. It’s a story...</td>\n",
       "      <td>24.0</td>\n",
       "      <td>Entertainment</td>\n",
       "    </tr>\n",
       "  </tbody>\n",
       "</table>\n",
       "</div>"
      ],
      "text/plain": [
       "     Unnamed: 0     video_id trending_date  \\\n",
       "6430       6345  zvjqcoiOPbE      18.12.01   \n",
       "6431       6346  zwEn-ambXLw      18.31.03   \n",
       "6432       6347  zxUwbflE1SY      17.19.11   \n",
       "6434       6349  zy0b9e40tK8      17.14.11   \n",
       "6435       6350  zzQsGL_F9_c      18.06.02   \n",
       "\n",
       "                                                  title         channel_title  \\\n",
       "6430    Breaking Benjamin - Red Cold River (Audio Only)  BreakingBenjaminVEVO   \n",
       "6431  This Is Me - Cover by Shoshana Bean Featuring ...         Shoshana Bean   \n",
       "6432  100 People Hold Their Breath for as Long as Th...                   Cut   \n",
       "6434             Dark | Official Trailer [HD] | Netflix               Netflix   \n",
       "6435                     Budweiser | Beer Country | :60             Budweiser   \n",
       "\n",
       "      category_id              publish_time  \\\n",
       "6430         10.0  2018-01-05T05:00:03.000Z   \n",
       "6431         10.0  2018-03-22T08:30:07.000Z   \n",
       "6432         24.0  2017-11-13T13:00:10.000Z   \n",
       "6434         24.0  2017-11-09T09:00:07.000Z   \n",
       "6435         24.0  2018-01-30T18:30:04.000Z   \n",
       "\n",
       "                                                   tags      views    likes  \\\n",
       "6430  breaking benjamin red cold river|\"breaking ben...  1329689.0  47497.0   \n",
       "6431  travis wall|\"shoshana bean\"|\"greatest showman\"...   190898.0   6731.0   \n",
       "6432  breath|\"hold\"|\"funny\"|\"holding breath\"|\"breath...   225280.0   5770.0   \n",
       "6434  Netflix|\"Baran Bo Odar\"|\"Jantje Friese\"|\"DARK\"...   378750.0   5642.0   \n",
       "6435  Budweiser|\"Super Bowl\"|\"Clydesdales\"|\"Bud\"|\"Th...   199041.0   1415.0   \n",
       "\n",
       "      dislikes  comment_count                                  thumbnail_link  \\\n",
       "6430    1170.0         5787.0  https://i.ytimg.com/vi/zvjqcoiOPbE/default.jpg   \n",
       "6431     113.0          292.0  https://i.ytimg.com/vi/zwEn-ambXLw/default.jpg   \n",
       "6432     150.0         1312.0  https://i.ytimg.com/vi/zxUwbflE1SY/default.jpg   \n",
       "6434     146.0          675.0  https://i.ytimg.com/vi/zy0b9e40tK8/default.jpg   \n",
       "6435     121.0           62.0  https://i.ytimg.com/vi/zzQsGL_F9_c/default.jpg   \n",
       "\n",
       "     comments_disabled ratings_disabled video_error_or_removed  \\\n",
       "6430             False            False                  False   \n",
       "6431             False            False                  False   \n",
       "6432             False            False                  False   \n",
       "6434             False            False                  False   \n",
       "6435             False            False                  False   \n",
       "\n",
       "                                            description    id  category_name  \n",
       "6430  Red Cold River is available here:\\nDownload: h...  10.0          Music  \n",
       "6431  I was lucky enough to lay the original demo fo...  10.0          Music  \n",
       "6432  Get Cut swag here: http://cut.com/shop\\n\\nDon’...  24.0  Entertainment  \n",
       "6434  The disappearance of two kids in the German sm...  24.0  Entertainment  \n",
       "6435  This is a story bigger than beer. It’s a story...  24.0  Entertainment  "
      ]
     },
     "execution_count": 36,
     "metadata": {},
     "output_type": "execute_result"
    }
   ],
   "source": [
    "df2.tail()"
   ]
  },
  {
   "cell_type": "code",
   "execution_count": 37,
   "metadata": {},
   "outputs": [],
   "source": [
    "df2=df2.drop(columns=['Unnamed: 0'])"
   ]
  },
  {
   "cell_type": "code",
   "execution_count": 38,
   "metadata": {},
   "outputs": [
    {
     "data": {
      "text/html": [
       "<div>\n",
       "<style scoped>\n",
       "    .dataframe tbody tr th:only-of-type {\n",
       "        vertical-align: middle;\n",
       "    }\n",
       "\n",
       "    .dataframe tbody tr th {\n",
       "        vertical-align: top;\n",
       "    }\n",
       "\n",
       "    .dataframe thead th {\n",
       "        text-align: right;\n",
       "    }\n",
       "</style>\n",
       "<table border=\"1\" class=\"dataframe\">\n",
       "  <thead>\n",
       "    <tr style=\"text-align: right;\">\n",
       "      <th></th>\n",
       "      <th>video_id</th>\n",
       "      <th>trending_date</th>\n",
       "      <th>title</th>\n",
       "      <th>channel_title</th>\n",
       "      <th>category_id</th>\n",
       "      <th>publish_time</th>\n",
       "      <th>tags</th>\n",
       "      <th>views</th>\n",
       "      <th>likes</th>\n",
       "      <th>dislikes</th>\n",
       "      <th>comment_count</th>\n",
       "      <th>thumbnail_link</th>\n",
       "      <th>comments_disabled</th>\n",
       "      <th>ratings_disabled</th>\n",
       "      <th>video_error_or_removed</th>\n",
       "      <th>description</th>\n",
       "      <th>id</th>\n",
       "      <th>category_name</th>\n",
       "    </tr>\n",
       "  </thead>\n",
       "  <tbody>\n",
       "    <tr>\n",
       "      <th>0</th>\n",
       "      <td>-0CMnp02rNY</td>\n",
       "      <td>18.11.06</td>\n",
       "      <td>Mindy Kaling's Daughter Had the Perfect Reacti...</td>\n",
       "      <td>TheEllenShow</td>\n",
       "      <td>24.0</td>\n",
       "      <td>2018-06-04T13:00:00.000Z</td>\n",
       "      <td>ellen|\"ellen degeneres\"|\"the ellen show\"|\"elle...</td>\n",
       "      <td>800359.0</td>\n",
       "      <td>9773.0</td>\n",
       "      <td>332.0</td>\n",
       "      <td>423.0</td>\n",
       "      <td>https://i.ytimg.com/vi/-0CMnp02rNY/default.jpg</td>\n",
       "      <td>False</td>\n",
       "      <td>False</td>\n",
       "      <td>False</td>\n",
       "      <td>Ocean's 8 star Mindy Kaling dished on bringing...</td>\n",
       "      <td>24.0</td>\n",
       "      <td>Entertainment</td>\n",
       "    </tr>\n",
       "    <tr>\n",
       "      <th>1</th>\n",
       "      <td>-0NYY8cqdiQ</td>\n",
       "      <td>18.01.02</td>\n",
       "      <td>Megan Mullally Didn't Notice the Interesting P...</td>\n",
       "      <td>TheEllenShow</td>\n",
       "      <td>24.0</td>\n",
       "      <td>2018-01-29T14:00:39.000Z</td>\n",
       "      <td>megan mullally|\"megan\"|\"mullally\"|\"will and gr...</td>\n",
       "      <td>563746.0</td>\n",
       "      <td>4429.0</td>\n",
       "      <td>54.0</td>\n",
       "      <td>94.0</td>\n",
       "      <td>https://i.ytimg.com/vi/-0NYY8cqdiQ/default.jpg</td>\n",
       "      <td>False</td>\n",
       "      <td>False</td>\n",
       "      <td>False</td>\n",
       "      <td>Ellen and Megan Mullally have known each other...</td>\n",
       "      <td>24.0</td>\n",
       "      <td>Entertainment</td>\n",
       "    </tr>\n",
       "    <tr>\n",
       "      <th>2</th>\n",
       "      <td>-1Hm41N0dUs</td>\n",
       "      <td>18.30.04</td>\n",
       "      <td>Cast of Avengers: Infinity War Draws Their Cha...</td>\n",
       "      <td>Jimmy Kimmel Live</td>\n",
       "      <td>23.0</td>\n",
       "      <td>2018-04-27T07:30:02.000Z</td>\n",
       "      <td>jimmy|\"jimmy kimmel\"|\"jimmy kimmel live\"|\"late...</td>\n",
       "      <td>1882352.0</td>\n",
       "      <td>38165.0</td>\n",
       "      <td>530.0</td>\n",
       "      <td>1412.0</td>\n",
       "      <td>https://i.ytimg.com/vi/-1Hm41N0dUs/default.jpg</td>\n",
       "      <td>False</td>\n",
       "      <td>False</td>\n",
       "      <td>False</td>\n",
       "      <td>Benedict Cumberbatch, Don Cheadle, Elizabeth O...</td>\n",
       "      <td>23.0</td>\n",
       "      <td>Comedy</td>\n",
       "    </tr>\n",
       "    <tr>\n",
       "      <th>3</th>\n",
       "      <td>-1yT-K3c6YI</td>\n",
       "      <td>17.30.11</td>\n",
       "      <td>YOUTUBER QUIZ + TRUTH OR DARE W/ THE MERRELL T...</td>\n",
       "      <td>Molly Burke</td>\n",
       "      <td>22.0</td>\n",
       "      <td>2017-11-28T18:30:43.000Z</td>\n",
       "      <td>youtube quiz|\"youtuber quiz\"|\"truth or dare\"|\"...</td>\n",
       "      <td>198315.0</td>\n",
       "      <td>6950.0</td>\n",
       "      <td>184.0</td>\n",
       "      <td>735.0</td>\n",
       "      <td>https://i.ytimg.com/vi/-1yT-K3c6YI/default.jpg</td>\n",
       "      <td>False</td>\n",
       "      <td>False</td>\n",
       "      <td>False</td>\n",
       "      <td>Check out the video we did on the Merrell Twin...</td>\n",
       "      <td>22.0</td>\n",
       "      <td>People &amp; Blogs</td>\n",
       "    </tr>\n",
       "    <tr>\n",
       "      <th>4</th>\n",
       "      <td>-2RVw2_QyxQ</td>\n",
       "      <td>17.16.11</td>\n",
       "      <td>2017 Champions Showdown: Day 3</td>\n",
       "      <td>Saint Louis Chess Club</td>\n",
       "      <td>27.0</td>\n",
       "      <td>2017-11-12T02:39:01.000Z</td>\n",
       "      <td>Chess|\"Saint Louis\"|\"Club\"</td>\n",
       "      <td>71089.0</td>\n",
       "      <td>460.0</td>\n",
       "      <td>27.0</td>\n",
       "      <td>20.0</td>\n",
       "      <td>https://i.ytimg.com/vi/-2RVw2_QyxQ/default.jpg</td>\n",
       "      <td>False</td>\n",
       "      <td>False</td>\n",
       "      <td>False</td>\n",
       "      <td>The Saint Louis Chess Club hosts a series of f...</td>\n",
       "      <td>27.0</td>\n",
       "      <td>Education</td>\n",
       "    </tr>\n",
       "  </tbody>\n",
       "</table>\n",
       "</div>"
      ],
      "text/plain": [
       "      video_id trending_date  \\\n",
       "0  -0CMnp02rNY      18.11.06   \n",
       "1  -0NYY8cqdiQ      18.01.02   \n",
       "2  -1Hm41N0dUs      18.30.04   \n",
       "3  -1yT-K3c6YI      17.30.11   \n",
       "4  -2RVw2_QyxQ      17.16.11   \n",
       "\n",
       "                                               title           channel_title  \\\n",
       "0  Mindy Kaling's Daughter Had the Perfect Reacti...            TheEllenShow   \n",
       "1  Megan Mullally Didn't Notice the Interesting P...            TheEllenShow   \n",
       "2  Cast of Avengers: Infinity War Draws Their Cha...       Jimmy Kimmel Live   \n",
       "3  YOUTUBER QUIZ + TRUTH OR DARE W/ THE MERRELL T...             Molly Burke   \n",
       "4                     2017 Champions Showdown: Day 3  Saint Louis Chess Club   \n",
       "\n",
       "   category_id              publish_time  \\\n",
       "0         24.0  2018-06-04T13:00:00.000Z   \n",
       "1         24.0  2018-01-29T14:00:39.000Z   \n",
       "2         23.0  2018-04-27T07:30:02.000Z   \n",
       "3         22.0  2017-11-28T18:30:43.000Z   \n",
       "4         27.0  2017-11-12T02:39:01.000Z   \n",
       "\n",
       "                                                tags      views    likes  \\\n",
       "0  ellen|\"ellen degeneres\"|\"the ellen show\"|\"elle...   800359.0   9773.0   \n",
       "1  megan mullally|\"megan\"|\"mullally\"|\"will and gr...   563746.0   4429.0   \n",
       "2  jimmy|\"jimmy kimmel\"|\"jimmy kimmel live\"|\"late...  1882352.0  38165.0   \n",
       "3  youtube quiz|\"youtuber quiz\"|\"truth or dare\"|\"...   198315.0   6950.0   \n",
       "4                         Chess|\"Saint Louis\"|\"Club\"    71089.0    460.0   \n",
       "\n",
       "   dislikes  comment_count                                  thumbnail_link  \\\n",
       "0     332.0          423.0  https://i.ytimg.com/vi/-0CMnp02rNY/default.jpg   \n",
       "1      54.0           94.0  https://i.ytimg.com/vi/-0NYY8cqdiQ/default.jpg   \n",
       "2     530.0         1412.0  https://i.ytimg.com/vi/-1Hm41N0dUs/default.jpg   \n",
       "3     184.0          735.0  https://i.ytimg.com/vi/-1yT-K3c6YI/default.jpg   \n",
       "4      27.0           20.0  https://i.ytimg.com/vi/-2RVw2_QyxQ/default.jpg   \n",
       "\n",
       "  comments_disabled ratings_disabled video_error_or_removed  \\\n",
       "0             False            False                  False   \n",
       "1             False            False                  False   \n",
       "2             False            False                  False   \n",
       "3             False            False                  False   \n",
       "4             False            False                  False   \n",
       "\n",
       "                                         description    id   category_name  \n",
       "0  Ocean's 8 star Mindy Kaling dished on bringing...  24.0   Entertainment  \n",
       "1  Ellen and Megan Mullally have known each other...  24.0   Entertainment  \n",
       "2  Benedict Cumberbatch, Don Cheadle, Elizabeth O...  23.0          Comedy  \n",
       "3  Check out the video we did on the Merrell Twin...  22.0  People & Blogs  \n",
       "4  The Saint Louis Chess Club hosts a series of f...  27.0       Education  "
      ]
     },
     "execution_count": 38,
     "metadata": {},
     "output_type": "execute_result"
    }
   ],
   "source": [
    "df2.head()"
   ]
  },
  {
   "cell_type": "markdown",
   "metadata": {},
   "source": [
    "### Creating a Clean Dataset ('updated_youtube_data.csv')"
   ]
  },
  {
   "cell_type": "code",
   "execution_count": 54,
   "metadata": {},
   "outputs": [],
   "source": [
    "#Converting this data to the final cleaned dataset ('updated_youtube_data.csv') that will be used in our analysis\n",
    "#df2.to_csv('updated_youtube_data.csv', index=False)"
   ]
  },
  {
   "cell_type": "markdown",
   "metadata": {},
   "source": [
    "### Exploratory Data Analysis"
   ]
  },
  {
   "cell_type": "code",
   "execution_count": 39,
   "metadata": {},
   "outputs": [
    {
     "data": {
      "image/png": "[encoded data removed]",
      "text/plain": [
       "<Figure size 432x288 with 1 Axes>"
      ]
     },
     "metadata": {},
     "output_type": "display_data"
    }
   ],
   "source": [
    "#Visualizing the dataset\n",
    "sns.set(style=\"whitegrid\")\n",
    "sns.barplot(x=\"category_id\", y=\"views\", data=df2)\n",
    "plt.show()"
   ]
  },
  {
   "cell_type": "code",
   "execution_count": 40,
   "metadata": {},
   "outputs": [
    {
     "data": {
      "image/png": "[encoded data removed]",
      "text/plain": [
       "<Figure size 432x288 with 1 Axes>"
      ]
     },
     "metadata": {},
     "output_type": "display_data"
    }
   ],
   "source": [
    "#Exploring relationships between variables\n",
    "sns.scatterplot(x=\"likes\", y=\"views\", data=df2)\n",
    "plt.show()"
   ]
  },
  {
   "cell_type": "code",
   "execution_count": 41,
   "metadata": {},
   "outputs": [
    {
     "name": "stdout",
     "output_type": "stream",
     "text": [
      "Pearson correlation: 0.832\n"
     ]
    }
   ],
   "source": [
    "from scipy.stats import pearsonr\n",
    "corr, _ = pearsonr(df2['likes'], df2['views'])\n",
    "print('Pearson correlation: %.3f' % corr)"
   ]
  },
  {
   "cell_type": "code",
   "execution_count": 42,
   "metadata": {},
   "outputs": [
    {
     "data": {
      "image/png": "[encoded data removed]",
      "text/plain": [
       "<Figure size 360x360 with 1 Axes>"
      ]
     },
     "metadata": {},
     "output_type": "display_data"
    }
   ],
   "source": [
    "sns.displot(df2['views'], kde=False, bins=50)\n",
    "plt.title('Distribution of Views')\n",
    "plt.xlabel('Views')\n",
    "plt.ylabel('Count')\n",
    "plt.xlim(left=0)  # autoscale x-axis from zero\n",
    "plt.show()"
   ]
  },
  {
   "cell_type": "code",
   "execution_count": 43,
   "metadata": {},
   "outputs": [
    {
     "data": {
      "image/png": "[encoded data removed]",
      "text/plain": [
       "<Figure size 360x360 with 1 Axes>"
      ]
     },
     "metadata": {},
     "output_type": "display_data"
    }
   ],
   "source": [
    "import seaborn as sns\n",
    "import matplotlib.pyplot as plt\n",
    "\n",
    "likes_ratio = df2['likes'] / (df2['likes'] + df2['dislikes'])\n",
    "\n",
    "# Plotting the distribution of likes\n",
    "sns.displot(likes_ratio, kde=False, bins=50)\n",
    "plt.title('Distribution of Likes')\n",
    "plt.xlabel('Likes')\n",
    "plt.ylabel('Count')\n",
    "plt.xlim(min(likes_ratio), max(likes_ratio))\n",
    "plt.show()"
   ]
  },
  {
   "cell_type": "code",
   "execution_count": 46,
   "metadata": {},
   "outputs": [],
   "source": [
    "from scipy.special import logit\n",
    "# compute the logit transform of the like ratio\n",
    "df2['logit_like_ratio'] = logit(df2['likes'] / (df2['likes'] + df2['dislikes']))"
   ]
  },
  {
   "cell_type": "code",
   "execution_count": 47,
   "metadata": {},
   "outputs": [
    {
     "data": {
      "image/png": "[encoded data removed]",
      "text/plain": [
       "<Figure size 360x360 with 1 Axes>"
      ]
     },
     "metadata": {},
     "output_type": "display_data"
    }
   ],
   "source": [
    "sns.displot(df2['dislikes'], kde=False, bins=50)\n",
    "plt.title('Distribution of Dislikes')\n",
    "plt.xlabel('Dislikes')\n",
    "plt.ylabel('Count')\n",
    "plt.xlim(min(df2['dislikes']), max(df2['dislikes']))\n",
    "plt.show()"
   ]
  },
  {
   "cell_type": "code",
   "execution_count": 48,
   "metadata": {},
   "outputs": [
    {
     "data": {
      "image/png": "[encoded data removed]",
      "text/plain": [
       "<Figure size 720x720 with 20 Axes>"
      ]
     },
     "metadata": {},
     "output_type": "display_data"
    }
   ],
   "source": [
    "#Visualizing the correlation between variables\n",
    "sns.pairplot(df2[['views', 'likes', 'dislikes', 'comment_count']])\n",
    "plt.show()"
   ]
  },
  {
   "cell_type": "code",
   "execution_count": 49,
   "metadata": {},
   "outputs": [
    {
     "data": {
      "image/png": "[encoded data removed]",
      "text/plain": [
       "<Figure size 720x432 with 1 Axes>"
      ]
     },
     "metadata": {},
     "output_type": "display_data"
    }
   ],
   "source": [
    "# Visualizing the number of videos per category\n",
    "category_count = df2['category_name'].value_counts()\n",
    "plt.figure(figsize=(10,6))\n",
    "sns.barplot(x=category_count.index, y=category_count.values)\n",
    "plt.title('Number of Videos per Category')\n",
    "plt.xlabel('Category')\n",
    "plt.ylabel('Count')\n",
    "plt.xticks(rotation=45)\n",
    "plt.show()"
   ]
  },
  {
   "cell_type": "code",
   "execution_count": 50,
   "metadata": {},
   "outputs": [
    {
     "data": {
      "image/png": "[encoded data removed]",
      "text/plain": [
       "<Figure size 432x288 with 1 Axes>"
      ]
     },
     "metadata": {},
     "output_type": "display_data"
    }
   ],
   "source": [
    "#Exploring the relationship between views and likes\n",
    "sns.scatterplot(x=df2.likes+df2.dislikes, y='likes', data=df2)\n",
    "plt.title('Likes per view')\n",
    "plt.show()"
   ]
  },
  {
   "cell_type": "code",
   "execution_count": 51,
   "metadata": {},
   "outputs": [
    {
     "data": {
      "image/png": "[encoded data removed]",
      "text/plain": [
       "<Figure size 432x288 with 1 Axes>"
      ]
     },
     "metadata": {},
     "output_type": "display_data"
    }
   ],
   "source": [
    "#Exploring the relationship between views and dislikes\n",
    "sns.scatterplot(x='views', y='dislikes', data=df2)\n",
    "plt.title('Views vs Dislikes')\n",
    "plt.show()"
   ]
  },
  {
   "cell_type": "code",
   "execution_count": 52,
   "metadata": {},
   "outputs": [
    {
     "data": {
      "image/png": "[encoded data removed]",
      "text/plain": [
       "<Figure size 432x288 with 1 Axes>"
      ]
     },
     "metadata": {},
     "output_type": "display_data"
    }
   ],
   "source": [
    "#Exploring the relationship between views and comment count\n",
    "sns.scatterplot(x='views', y='comment_count', data=df2)\n",
    "plt.title('Views vs Comment Count')\n",
    "plt.show()"
   ]
  },
  {
   "cell_type": "code",
   "execution_count": 53,
   "metadata": {},
   "outputs": [
    {
     "name": "stdout",
     "output_type": "stream",
     "text": [
      "Pearson correlation between views and likes: 0.832\n"
     ]
    }
   ],
   "source": [
    "corr_views_likes, _ = pearsonr(df2['views'], df2['likes'])\n",
    "print('Pearson correlation between views and likes: %.3f' % corr_views_likes)"
   ]
  },
  {
   "cell_type": "code",
   "execution_count": null,
   "metadata": {},
   "outputs": [],
   "source": []
  }
 ],
 "metadata": {
  "accelerator": "GPU",
  "colab": {
   "provenance": []
  },
  "gpuClass": "standard",
  "kernelspec": {
   "display_name": "Python 3 (ipykernel)",
   "language": "python",
   "name": "python3"
  },
  "language_info": {
   "codemirror_mode": {
    "name": "ipython",
    "version": 3
   },
   "file_extension": ".py",
   "mimetype": "text/x-python",
   "name": "python",
   "nbconvert_exporter": "python",
   "pygments_lexer": "ipython3",
   "version": "3.9.12"
  }
 },
 "nbformat": 4,
 "nbformat_minor": 4
}
